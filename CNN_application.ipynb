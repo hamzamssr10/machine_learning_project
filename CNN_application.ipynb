{
 "cells": [
  {
   "cell_type": "code",
   "execution_count": 1,
   "metadata": {},
   "outputs": [],
   "source": [
    "import numpy as np\n",
    "import pandas as pd\n",
    "import matplotlib.pyplot as plt\n",
    "import h5py"
   ]
  },
  {
   "cell_type": "code",
   "execution_count": 2,
   "metadata": {},
   "outputs": [
    {
     "name": "stdout",
     "output_type": "stream",
     "text": [
      "number of training examples = 600\n",
      "number of test examples = 150\n",
      "X_train shape: (600, 64, 64, 3)\n",
      "Y_train shape: (1, 600)\n",
      "X_test shape: (150, 64, 64, 3)\n",
      "Y_test shape: (1, 150)\n"
     ]
    }
   ],
   "source": [
    "path_to_train = \"images/train_happy.h5\"\n",
    "path_to_test = \"images/test_happy.h5\"\n",
    "\n",
    "train_dataset = h5py.File(path_to_train)\n",
    "x_train = np.array(train_dataset['train_set_x'])\n",
    "y_train = np.array(train_dataset['train_set_y'], ndmin=2)\n",
    "\n",
    "test_dataset = h5py.File(path_to_test)\n",
    "x_test = np.array(test_dataset['test_set_x'])\n",
    "y_test = np.array(test_dataset['test_set_y'], ndmin=2)\n",
    "\n",
    "print (\"number of training examples = \" + str(x_train.shape[0]))\n",
    "print (\"number of test examples = \" + str(x_test.shape[0]))\n",
    "print (\"X_train shape: \" + str(x_train.shape))\n",
    "print (\"Y_train shape: \" + str(y_train.shape))\n",
    "print (\"X_test shape: \" + str(x_test.shape))\n",
    "print (\"Y_test shape: \" + str(y_test.shape))"
   ]
  },
  {
   "cell_type": "code",
   "execution_count": 3,
   "metadata": {},
   "outputs": [],
   "source": [
    "x_train = (x_train)/255\n",
    "x_test = (x_test)/255\n",
    "y_train = y_train.T\n",
    "y_test = y_test.T"
   ]
  },
  {
   "cell_type": "code",
   "execution_count": 4,
   "metadata": {},
   "outputs": [
    {
     "name": "stdout",
     "output_type": "stream",
     "text": [
      "The person is :not happy\n"
     ]
    },
    {
     "data": {
      "text/plain": [
       "<matplotlib.image.AxesImage at 0x1e1bb563850>"
      ]
     },
     "execution_count": 4,
     "metadata": {},
     "output_type": "execute_result"
    },
    {
     "data": {
      "image/png": "[encoded data removed]",
      "text/plain": [
       "<Figure size 432x288 with 1 Axes>"
      ]
     },
     "metadata": {
      "needs_background": "light"
     },
     "output_type": "display_data"
    }
   ],
   "source": [
    "i=np.random.randint(x_train.shape[0])\n",
    "x= \"happy\" if  y_train[i] else \"not happy\"\n",
    "print(\"The person is :\"+x)\n",
    "plt.imshow(x_train[i])"
   ]
  },
  {
   "cell_type": "code",
   "execution_count": 5,
   "metadata": {},
   "outputs": [],
   "source": [
    "import tensorflow as tf"
   ]
  },
  {
   "cell_type": "code",
   "execution_count": 6,
   "metadata": {},
   "outputs": [],
   "source": [
    "model = tf.keras.Sequential()\n",
    "\n",
    " \n",
    "model.add(tf.keras.layers.Conv2D(16,(3,3), padding = 'same', activation = 'relu', input_shape = (64,64,3)))\n",
    "model.add(tf.keras.layers.BatchNormalization())\n",
    "\n",
    "\n",
    "model.add(tf.keras.layers.MaxPooling2D(pool_size = (2,2)))\n",
    "model.add(tf.keras.layers.Dropout(0.1))\n",
    "\n",
    " \n",
    "model.add(tf.keras.layers.Conv2D(32, (3,3), padding = 'same', activation = 'relu'))\n",
    "model.add(tf.keras.layers.BatchNormalization())\n",
    "\n",
    "\n",
    "model.add(tf.keras.layers.MaxPooling2D(pool_size = (2,2)))\n",
    "\n",
    "\n",
    "model.add(tf.keras.layers.Conv2D(64, (3,3), padding = 'same', activation = 'relu'))\n",
    "model.add(tf.keras.layers.BatchNormalization())\n",
    "\n",
    "\n",
    "model.add(tf.keras.layers.MaxPooling2D(pool_size = (2,2)))\n",
    "\n",
    "\n",
    "\n",
    "model.add(tf.keras.layers.Dropout(0.1))\n",
    "\n",
    "\n",
    "model.add(tf.keras.layers.Flatten())\n",
    "\n",
    "model.add(tf.keras.layers.Dense(500, activation = 'relu'))\n",
    "model.add(tf.keras.layers.Dropout(0.2))\n",
    "\n",
    "model.add(tf.keras.layers.Dense(128, activation = 'relu'))\n",
    "\n",
    "\n",
    "model.add(tf.keras.layers.Dense(1, activation = 'sigmoid'))"
   ]
  },
  {
   "cell_type": "code",
   "execution_count": 7,
   "metadata": {},
   "outputs": [
    {
     "name": "stdout",
     "output_type": "stream",
     "text": [
      "Model: \"sequential\"\n",
      "_________________________________________________________________\n",
      "Layer (type)                 Output Shape              Param #   \n",
      "=================================================================\n",
      "conv2d (Conv2D)              (None, 64, 64, 16)        448       \n",
      "_________________________________________________________________\n",
      "batch_normalization (BatchNo (None, 64, 64, 16)        64        \n",
      "_________________________________________________________________\n",
      "max_pooling2d (MaxPooling2D) (None, 32, 32, 16)        0         \n",
      "_________________________________________________________________\n",
      "dropout (Dropout)            (None, 32, 32, 16)        0         \n",
      "_________________________________________________________________\n",
      "conv2d_1 (Conv2D)            (None, 32, 32, 32)        4640      \n",
      "_________________________________________________________________\n",
      "batch_normalization_1 (Batch (None, 32, 32, 32)        128       \n",
      "_________________________________________________________________\n",
      "max_pooling2d_1 (MaxPooling2 (None, 16, 16, 32)        0         \n",
      "_________________________________________________________________\n",
      "conv2d_2 (Conv2D)            (None, 16, 16, 64)        18496     \n",
      "_________________________________________________________________\n",
      "batch_normalization_2 (Batch (None, 16, 16, 64)        256       \n",
      "_________________________________________________________________\n",
      "max_pooling2d_2 (MaxPooling2 (None, 8, 8, 64)          0         \n",
      "_________________________________________________________________\n",
      "dropout_1 (Dropout)          (None, 8, 8, 64)          0         \n",
      "_________________________________________________________________\n",
      "flatten (Flatten)            (None, 4096)              0         \n",
      "_________________________________________________________________\n",
      "dense (Dense)                (None, 500)               2048500   \n",
      "_________________________________________________________________\n",
      "dropout_2 (Dropout)          (None, 500)               0         \n",
      "_________________________________________________________________\n",
      "dense_1 (Dense)              (None, 128)               64128     \n",
      "_________________________________________________________________\n",
      "dense_2 (Dense)              (None, 1)                 129       \n",
      "=================================================================\n",
      "Total params: 2,136,789\n",
      "Trainable params: 2,136,565\n",
      "Non-trainable params: 224\n",
      "_________________________________________________________________\n"
     ]
    }
   ],
   "source": [
    "model.summary()"
   ]
  },
  {
   "cell_type": "code",
   "execution_count": 8,
   "metadata": {},
   "outputs": [],
   "source": [
    "model.compile(optimizer='adam',\n",
    "              loss= 'binary_crossentropy',\n",
    "              metrics=['accuracy'])"
   ]
  },
  {
   "cell_type": "code",
   "execution_count": 9,
   "metadata": {},
   "outputs": [
    {
     "name": "stdout",
     "output_type": "stream",
     "text": [
      "Epoch 1/30\n",
      "240/240 [==============================] - 10s 37ms/step - loss: 1.3861 - accuracy: 0.6521 - val_loss: 0.9416 - val_accuracy: 0.5500\n",
      "Epoch 2/30\n",
      "240/240 [==============================] - 9s 38ms/step - loss: 0.5634 - accuracy: 0.7708 - val_loss: 0.4208 - val_accuracy: 0.8500\n",
      "Epoch 3/30\n",
      "240/240 [==============================] - 9s 36ms/step - loss: 0.3531 - accuracy: 0.8687 - val_loss: 0.2096 - val_accuracy: 0.8917\n",
      "Epoch 4/30\n",
      "240/240 [==============================] - 9s 38ms/step - loss: 0.2737 - accuracy: 0.9146 - val_loss: 0.6114 - val_accuracy: 0.7333\n",
      "Epoch 5/30\n",
      "240/240 [==============================] - 9s 37ms/step - loss: 0.2441 - accuracy: 0.9083 - val_loss: 0.1605 - val_accuracy: 0.9667\n",
      "Epoch 6/30\n",
      "240/240 [==============================] - 9s 39ms/step - loss: 0.1910 - accuracy: 0.9354 - val_loss: 0.1826 - val_accuracy: 0.8917\n",
      "Epoch 7/30\n",
      "240/240 [==============================] - 9s 39ms/step - loss: 0.1762 - accuracy: 0.9312 - val_loss: 0.2986 - val_accuracy: 0.8417\n",
      "Epoch 8/30\n",
      "240/240 [==============================] - 10s 40ms/step - loss: 0.1210 - accuracy: 0.9563 - val_loss: 0.1672 - val_accuracy: 0.9000\n",
      "Epoch 9/30\n",
      "240/240 [==============================] - 10s 43ms/step - loss: 0.0728 - accuracy: 0.9750 - val_loss: 0.0756 - val_accuracy: 0.9750\n",
      "Epoch 10/30\n",
      "240/240 [==============================] - 9s 35ms/step - loss: 0.2141 - accuracy: 0.9312 - val_loss: 0.2746 - val_accuracy: 0.8583\n",
      "Epoch 11/30\n",
      "240/240 [==============================] - 8s 35ms/step - loss: 0.1667 - accuracy: 0.9271 - val_loss: 0.2092 - val_accuracy: 0.9000\n",
      "Epoch 12/30\n",
      "240/240 [==============================] - 8s 35ms/step - loss: 0.1490 - accuracy: 0.9375 - val_loss: 0.2458 - val_accuracy: 0.9333\n",
      "Epoch 13/30\n",
      "240/240 [==============================] - 9s 35ms/step - loss: 0.1821 - accuracy: 0.9438 - val_loss: 0.5255 - val_accuracy: 0.7000\n",
      "Epoch 14/30\n",
      "240/240 [==============================] - 9s 36ms/step - loss: 0.3968 - accuracy: 0.8792 - val_loss: 0.0780 - val_accuracy: 0.9750\n",
      "Epoch 15/30\n",
      "240/240 [==============================] - 9s 37ms/step - loss: 0.1069 - accuracy: 0.9708 - val_loss: 0.0494 - val_accuracy: 0.9917\n",
      "Epoch 16/30\n",
      "240/240 [==============================] - 9s 37ms/step - loss: 0.0807 - accuracy: 0.9688 - val_loss: 0.0672 - val_accuracy: 0.9750\n",
      "Epoch 17/30\n",
      "240/240 [==============================] - 9s 37ms/step - loss: 0.0933 - accuracy: 0.9667 - val_loss: 0.0750 - val_accuracy: 0.9667\n",
      "Epoch 18/30\n",
      "240/240 [==============================] - 8s 35ms/step - loss: 0.1188 - accuracy: 0.9521 - val_loss: 0.1760 - val_accuracy: 0.9250\n",
      "Epoch 19/30\n",
      "240/240 [==============================] - 9s 38ms/step - loss: 0.0874 - accuracy: 0.9688 - val_loss: 0.0429 - val_accuracy: 0.9917\n",
      "Epoch 20/30\n",
      "240/240 [==============================] - 9s 37ms/step - loss: 0.0731 - accuracy: 0.9750 - val_loss: 0.1394 - val_accuracy: 0.9667\n",
      "Epoch 21/30\n",
      "240/240 [==============================] - 8s 35ms/step - loss: 0.0989 - accuracy: 0.9792 - val_loss: 0.0375 - val_accuracy: 0.9833\n",
      "Epoch 22/30\n",
      "240/240 [==============================] - 9s 38ms/step - loss: 0.0647 - accuracy: 0.9833 - val_loss: 0.1998 - val_accuracy: 0.9083\n",
      "Epoch 23/30\n",
      "240/240 [==============================] - 9s 38ms/step - loss: 0.0886 - accuracy: 0.9688 - val_loss: 0.3519 - val_accuracy: 0.8750\n",
      "Epoch 24/30\n",
      "240/240 [==============================] - 8s 34ms/step - loss: 0.1049 - accuracy: 0.9750 - val_loss: 0.1674 - val_accuracy: 0.9250\n",
      "Epoch 25/30\n",
      "240/240 [==============================] - 8s 35ms/step - loss: 0.1108 - accuracy: 0.9750 - val_loss: 0.1063 - val_accuracy: 0.9667s - loss: 0.1097 - accuracy: \n",
      "Epoch 26/30\n",
      "240/240 [==============================] - 9s 36ms/step - loss: 0.1020 - accuracy: 0.9708 - val_loss: 0.0552 - val_accuracy: 0.9750\n",
      "Epoch 27/30\n",
      "240/240 [==============================] - 9s 36ms/step - loss: 0.0428 - accuracy: 0.9854 - val_loss: 0.1139 - val_accuracy: 0.9750\n",
      "Epoch 28/30\n",
      "240/240 [==============================] - 8s 34ms/step - loss: 0.0378 - accuracy: 0.9896 - val_loss: 0.0741 - val_accuracy: 0.9917\n",
      "Epoch 29/30\n",
      "240/240 [==============================] - 9s 36ms/step - loss: 0.0237 - accuracy: 0.9917 - val_loss: 0.0063 - val_accuracy: 1.0000\n",
      "Epoch 30/30\n",
      "240/240 [==============================] - 9s 38ms/step - loss: 0.0179 - accuracy: 0.9937 - val_loss: 0.0187 - val_accuracy: 0.9917\n"
     ]
    }
   ],
   "source": [
    "model_history= model.fit(x_train, y_train, epochs=30, batch_size=2, validation_split=0.2)"
   ]
  },
  {
   "cell_type": "code",
   "execution_count": 10,
   "metadata": {},
   "outputs": [
    {
     "data": {
      "text/plain": [
       "<matplotlib.legend.Legend at 0x1e1c909b460>"
      ]
     },
     "execution_count": 10,
     "metadata": {},
     "output_type": "execute_result"
    },
    {
     "data": {
      "image/png": "[encoded data removed]",
      "text/plain": [
       "<Figure size 720x360 with 1 Axes>"
      ]
     },
     "metadata": {
      "needs_background": "light"
     },
     "output_type": "display_data"
    }
   ],
   "source": [
    "plt.figure(figsize=(10,5))\n",
    "plt.plot(model_history.history['accuracy'])\n",
    "plt.plot(model_history.history['val_accuracy'])\n",
    "plt.title('Model accuracy Progress During Training')\n",
    "plt.xlabel('Epoch')\n",
    "plt.ylabel('Training and Validation accuracy')\n",
    "plt.legend(['Training accuracy', 'Validation accuracy'])"
   ]
  },
  {
   "cell_type": "code",
   "execution_count": 12,
   "metadata": {},
   "outputs": [
    {
     "name": "stdout",
     "output_type": "stream",
     "text": [
      "5/5 [==============================] - 0s 43ms/step - loss: 0.1811 - accuracy: 0.9533\n",
      "Test accuracy: 0.95333331823349\n"
     ]
    }
   ],
   "source": [
    "test_loss, test_acc = model.evaluate(x_test,  y_test)\n",
    "print('Test accuracy:', test_acc)"
   ]
  },
  {
   "cell_type": "code",
   "execution_count": null,
   "metadata": {},
   "outputs": [],
   "source": []
  }
 ],
 "metadata": {
  "kernelspec": {
   "display_name": "Python 3",
   "language": "python",
   "name": "python3"
  },
  "language_info": {
   "codemirror_mode": {
    "name": "ipython",
    "version": 3
   },
   "file_extension": ".py",
   "mimetype": "text/x-python",
   "name": "python",
   "nbconvert_exporter": "python",
   "pygments_lexer": "ipython3",
   "version": "3.8.5"
  }
 },
 "nbformat": 4,
 "nbformat_minor": 4
}
