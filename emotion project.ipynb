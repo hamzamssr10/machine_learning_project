{
 "cells": [
  {
   "cell_type": "code",
   "execution_count": 16,
   "metadata": {},
   "outputs": [],
   "source": [
    "import numpy as np\n",
    "import pandas as pd\n",
    "import matplotlib.pyplot as plt\n",
    "import tensorflow as tf\n",
    "from keras.preprocessing.image import load_img, img_to_array\n",
    "from keras.preprocessing.image import ImageDataGenerator"
   ]
  },
  {
   "cell_type": "code",
   "execution_count": 17,
   "metadata": {},
   "outputs": [],
   "source": [
    "import os"
   ]
  },
  {
   "cell_type": "code",
   "execution_count": 37,
   "metadata": {},
   "outputs": [],
   "source": [
    "angry = []\n",
    "for i in range(3993):\n",
    "    angry.append(np.array(load_img(\"images/train/angry/\"+\n",
    "                  os.listdir(\"images/train/angry\")[i])))\n",
    "disgust = []\n",
    "for i in range(436):\n",
    "    disgust.append(np.array(load_img(\"images/train/disgust/\"+\n",
    "                  os.listdir(\"images/train/disgust\")[i])))\n",
    "fear = []\n",
    "for i in range(4103):\n",
    "    fear.append(np.array(load_img(\"images/train/fear/\"+\n",
    "                  os.listdir(\"images/train/fear\")[i])))\n",
    "happy = []\n",
    "for i in range(7164):\n",
    "    happy.append(np.array(load_img(\"images/train/happy/\"+\n",
    "                  os.listdir(\"images/train/happy\")[i])))\n",
    "neutral = []\n",
    "for i in range(4982):\n",
    "    neutral.append(np.array(load_img(\"images/train/neutral/\"+\n",
    "                  os.listdir(\"images/train/neutral\")[i])))\n",
    "sad = []\n",
    "for i in range(4938):\n",
    "    sad.append(np.array(load_img(\"images/train/sad/\"+\n",
    "                  os.listdir(\"images/train/sad\")[i])))\n",
    "surprice = []\n",
    "for i in range(3205):\n",
    "    surprice.append(np.array(load_img(\"images/train/surprise/\"+\n",
    "                  os.listdir(\"images/train/surprise\")[i])))"
   ]
  },
  {
   "cell_type": "code",
   "execution_count": 38,
   "metadata": {},
   "outputs": [],
   "source": [
    "angry = np.array(angry)\n",
    "disgust = np.array(disgust)\n",
    "fear = np.array(fear)\n",
    "neutral = np.array(neutral)\n",
    "sad = np.array(sad)\n",
    "surprice = np.array(surprice)"
   ]
  },
  {
   "cell_type": "code",
   "execution_count": 39,
   "metadata": {},
   "outputs": [
    {
     "data": {
      "text/plain": [
       "((3993, 48, 48, 3),\n",
       " (436, 48, 48, 3),\n",
       " (4103, 48, 48, 3),\n",
       " (4982, 48, 48, 3),\n",
       " (4938, 48, 48, 3),\n",
       " (3205, 48, 48, 3))"
      ]
     },
     "execution_count": 39,
     "metadata": {},
     "output_type": "execute_result"
    }
   ],
   "source": [
    "angry.shape, disgust.shape , fear.shape , neutral.shape , sad.shape , surprice.shape"
   ]
  },
  {
   "cell_type": "code",
   "execution_count": 42,
   "metadata": {},
   "outputs": [],
   "source": [
    "data = np.concatenate((angry, disgust,fear, neutral, sad, surprice),axis = 0)"
   ]
  },
  {
   "cell_type": "code",
   "execution_count": 43,
   "metadata": {},
   "outputs": [
    {
     "data": {
      "text/plain": [
       "(21657, 48, 48, 3)"
      ]
     },
     "execution_count": 43,
     "metadata": {},
     "output_type": "execute_result"
    }
   ],
   "source": [
    "data.shape"
   ]
  },
  {
   "cell_type": "code",
   "execution_count": 53,
   "metadata": {},
   "outputs": [],
   "source": [
    "label = angry.shape[0]*[0] + disgust.shape[0]*[1] + fear.shape[0]*[2] + neutral.shape[0]*[3]+ sad.shape[0]*[4] + surprice.shape[0]*[5]\n",
    "label = np.vstack(label)"
   ]
  },
  {
   "cell_type": "code",
   "execution_count": 58,
   "metadata": {},
   "outputs": [],
   "source": [
    "label = label.reshape(21657)"
   ]
  },
  {
   "cell_type": "code",
   "execution_count": 59,
   "metadata": {},
   "outputs": [],
   "source": [
    "from sklearn.model_selection import train_test_split"
   ]
  },
  {
   "cell_type": "code",
   "execution_count": 60,
   "metadata": {},
   "outputs": [],
   "source": [
    "x_train, x_test , y_train , y_test = train_test_split(data, label , test_size = 0.2)"
   ]
  },
  {
   "cell_type": "code",
   "execution_count": 62,
   "metadata": {},
   "outputs": [],
   "source": [
    "from sklearn.utils import shuffle\n",
    "x_train, y_train = shuffle(x_train, y_train)"
   ]
  },
  {
   "cell_type": "code",
   "execution_count": 63,
   "metadata": {},
   "outputs": [],
   "source": [
    "x_train_gray = np.sum(x_train/3, axis = 3, keepdims = True)\n",
    "x_test_gray = np.sum(x_test/3, axis = 3, keepdims = True)"
   ]
  },
  {
   "cell_type": "code",
   "execution_count": 65,
   "metadata": {},
   "outputs": [
    {
     "data": {
      "text/plain": [
       "<matplotlib.image.AxesImage at 0x1b243f86b50>"
      ]
     },
     "execution_count": 65,
     "metadata": {},
     "output_type": "execute_result"
    },
    {
     "data": {
      "image/png": "[encoded data removed]",
      "text/plain": [
       "<Figure size 432x288 with 1 Axes>"
      ]
     },
     "metadata": {
      "needs_background": "light"
     },
     "output_type": "display_data"
    }
   ],
   "source": [
    "plt.imshow(x_train_gray[0], cmap=\"gray\")"
   ]
  },
  {
   "cell_type": "code",
   "execution_count": 67,
   "metadata": {},
   "outputs": [],
   "source": [
    "x_train_gray_norm = (x_train_gray - 128)/128\n",
    "x_test_gray_norm = (x_test_gray - 128)/128"
   ]
  },
  {
   "cell_type": "code",
   "execution_count": 68,
   "metadata": {},
   "outputs": [
    {
     "data": {
      "text/plain": [
       "(4332, 48, 48, 1)"
      ]
     },
     "execution_count": 68,
     "metadata": {},
     "output_type": "execute_result"
    }
   ],
   "source": [
    "x_test_gray_norm.shape"
   ]
  },
  {
   "cell_type": "code",
   "execution_count": 88,
   "metadata": {},
   "outputs": [
    {
     "name": "stdout",
     "output_type": "stream",
     "text": [
      "Model: \"sequential_5\"\n",
      "_________________________________________________________________\n",
      "Layer (type)                 Output Shape              Param #   \n",
      "=================================================================\n",
      "conv2d_10 (Conv2D)           (None, 44, 44, 8)         208       \n",
      "_________________________________________________________________\n",
      "average_pooling2d_10 (Averag (None, 22, 22, 8)         0         \n",
      "_________________________________________________________________\n",
      "batch_normalization_6 (Batch (None, 22, 22, 8)         32        \n",
      "_________________________________________________________________\n",
      "dropout_11 (Dropout)         (None, 22, 22, 8)         0         \n",
      "_________________________________________________________________\n",
      "conv2d_11 (Conv2D)           (None, 18, 18, 18)        3618      \n",
      "_________________________________________________________________\n",
      "average_pooling2d_11 (Averag (None, 9, 9, 18)          0         \n",
      "_________________________________________________________________\n",
      "batch_normalization_7 (Batch (None, 9, 9, 18)          72        \n",
      "_________________________________________________________________\n",
      "dropout_12 (Dropout)         (None, 9, 9, 18)          0         \n",
      "_________________________________________________________________\n",
      "flatten_3 (Flatten)          (None, 1458)              0         \n",
      "_________________________________________________________________\n",
      "dense_15 (Dense)             (None, 120)               175080    \n",
      "_________________________________________________________________\n",
      "batch_normalization_8 (Batch (None, 120)               480       \n",
      "_________________________________________________________________\n",
      "dropout_13 (Dropout)         (None, 120)               0         \n",
      "_________________________________________________________________\n",
      "dense_16 (Dense)             (None, 84)                10164     \n",
      "_________________________________________________________________\n",
      "batch_normalization_9 (Batch (None, 84)                336       \n",
      "_________________________________________________________________\n",
      "dropout_14 (Dropout)         (None, 84)                0         \n",
      "_________________________________________________________________\n",
      "dense_17 (Dense)             (None, 40)                3400      \n",
      "_________________________________________________________________\n",
      "dropout_15 (Dropout)         (None, 40)                0         \n",
      "_________________________________________________________________\n",
      "batch_normalization_10 (Batc (None, 40)                160       \n",
      "_________________________________________________________________\n",
      "dense_18 (Dense)             (None, 20)                820       \n",
      "_________________________________________________________________\n",
      "dense_19 (Dense)             (None, 6)                 126       \n",
      "=================================================================\n",
      "Total params: 194,496\n",
      "Trainable params: 193,956\n",
      "Non-trainable params: 540\n",
      "_________________________________________________________________\n"
     ]
    }
   ],
   "source": [
    "model = tf.keras.models.Sequential()\n",
    "model.add(tf.keras.layers.Conv2D(8, (5,5), activation = 'relu', input_shape = (48,48,1)))\n",
    "model.add(tf.keras.layers.AveragePooling2D())\n",
    "model.add(tf.keras.layers.BatchNormalization())\n",
    "model.add(tf.keras.layers.Dropout(0.2))\n",
    "model.add(tf.keras.layers.Conv2D(18, (5,5), activation = 'relu'))\n",
    "model.add(tf.keras.layers.AveragePooling2D())\n",
    "model.add(tf.keras.layers.BatchNormalization())\n",
    "model.add(tf.keras.layers.Dropout(0.2))\n",
    "model.add(tf.keras.layers.Flatten())\n",
    "model.add(tf.keras.layers.Dense(120, activation = 'relu'))\n",
    "model.add(tf.keras.layers.BatchNormalization())\n",
    "model.add(tf.keras.layers.Dropout(0.5))\n",
    "model.add(tf.keras.layers.Dense(84, activation = 'relu'))\n",
    "model.add(tf.keras.layers.BatchNormalization())\n",
    "model.add(tf.keras.layers.Dropout(0.2))\n",
    "model.add(tf.keras.layers.Dense(40, activation = 'relu'))\n",
    "model.add(tf.keras.layers.Dropout(0.2))\n",
    "model.add(tf.keras.layers.BatchNormalization())\n",
    "model.add(tf.keras.layers.Dense(20, activation = 'relu'))\n",
    "model.add(tf.keras.layers.Dense(6, activation = 'softmax'))\n",
    "model.summary()"
   ]
  },
  {
   "cell_type": "code",
   "execution_count": 89,
   "metadata": {},
   "outputs": [],
   "source": [
    "model.compile(optimizer = 'Adam', loss = 'sparse_categorical_crossentropy', metrics = ['accuracy'])"
   ]
  },
  {
   "cell_type": "code",
   "execution_count": 91,
   "metadata": {},
   "outputs": [
    {
     "name": "stdout",
     "output_type": "stream",
     "text": [
      "Epoch 1/50\n",
      "693/693 [==============================] - 28s 38ms/step - loss: 1.5937 - accuracy: 0.2977 - val_loss: 1.5264 - val_accuracy: 0.3483\n",
      "Epoch 2/50\n",
      "693/693 [==============================] - 27s 39ms/step - loss: 1.5578 - accuracy: 0.3229 - val_loss: 1.4826 - val_accuracy: 0.3763\n",
      "Epoch 3/50\n",
      "693/693 [==============================] - 27s 38ms/step - loss: 1.5239 - accuracy: 0.3492 - val_loss: 1.4557 - val_accuracy: 0.3968\n",
      "Epoch 4/50\n",
      "693/693 [==============================] - 19s 27ms/step - loss: 1.4955 - accuracy: 0.3667 - val_loss: 1.4302 - val_accuracy: 0.4087\n",
      "Epoch 5/50\n",
      "693/693 [==============================] - 19s 28ms/step - loss: 1.4628 - accuracy: 0.3881 - val_loss: 1.4044 - val_accuracy: 0.4162\n",
      "Epoch 6/50\n",
      "693/693 [==============================] - 19s 27ms/step - loss: 1.4482 - accuracy: 0.3975 - val_loss: 1.3740 - val_accuracy: 0.4329\n",
      "Epoch 7/50\n",
      "693/693 [==============================] - 18s 27ms/step - loss: 1.4232 - accuracy: 0.4089 - val_loss: 1.3516 - val_accuracy: 0.4566\n",
      "Epoch 8/50\n",
      "693/693 [==============================] - 19s 27ms/step - loss: 1.4024 - accuracy: 0.4249 - val_loss: 1.3456 - val_accuracy: 0.4534\n",
      "Epoch 9/50\n",
      "693/693 [==============================] - 19s 27ms/step - loss: 1.3832 - accuracy: 0.4286 - val_loss: 1.3342 - val_accuracy: 0.4606\n",
      "Epoch 10/50\n",
      "693/693 [==============================] - 18s 26ms/step - loss: 1.3703 - accuracy: 0.4371 - val_loss: 1.3166 - val_accuracy: 0.4701\n",
      "Epoch 11/50\n",
      "693/693 [==============================] - 18s 26ms/step - loss: 1.3586 - accuracy: 0.4431 - val_loss: 1.3016 - val_accuracy: 0.4877\n",
      "Epoch 12/50\n",
      "693/693 [==============================] - 18s 26ms/step - loss: 1.3411 - accuracy: 0.4571 - val_loss: 1.2941 - val_accuracy: 0.4854\n",
      "Epoch 13/50\n",
      "693/693 [==============================] - 18s 27ms/step - loss: 1.3286 - accuracy: 0.4560 - val_loss: 1.2844 - val_accuracy: 0.4805\n",
      "Epoch 14/50\n",
      "693/693 [==============================] - 18s 26ms/step - loss: 1.3135 - accuracy: 0.4677 - val_loss: 1.2904 - val_accuracy: 0.4759\n",
      "Epoch 15/50\n",
      "693/693 [==============================] - 18s 26ms/step - loss: 1.2975 - accuracy: 0.4723 - val_loss: 1.2826 - val_accuracy: 0.4831\n",
      "Epoch 16/50\n",
      "693/693 [==============================] - 19s 27ms/step - loss: 1.2868 - accuracy: 0.4816 - val_loss: 1.2843 - val_accuracy: 0.4762\n",
      "Epoch 17/50\n",
      "693/693 [==============================] - 18s 26ms/step - loss: 1.2783 - accuracy: 0.4863 - val_loss: 1.2691 - val_accuracy: 0.4912\n",
      "Epoch 18/50\n",
      "693/693 [==============================] - 18s 26ms/step - loss: 1.2685 - accuracy: 0.4928 - val_loss: 1.2597 - val_accuracy: 0.4895\n",
      "Epoch 19/50\n",
      "693/693 [==============================] - 18s 26ms/step - loss: 1.2538 - accuracy: 0.4955 - val_loss: 1.2484 - val_accuracy: 0.5007\n",
      "Epoch 20/50\n",
      "693/693 [==============================] - 18s 26ms/step - loss: 1.2478 - accuracy: 0.5031 - val_loss: 1.2558 - val_accuracy: 0.4970\n",
      "Epoch 21/50\n",
      "693/693 [==============================] - 18s 25ms/step - loss: 1.2329 - accuracy: 0.5139 - val_loss: 1.2461 - val_accuracy: 0.5025\n",
      "Epoch 22/50\n",
      "693/693 [==============================] - 18s 26ms/step - loss: 1.2287 - accuracy: 0.5124 - val_loss: 1.2404 - val_accuracy: 0.5039\n",
      "Epoch 23/50\n",
      "693/693 [==============================] - 18s 25ms/step - loss: 1.2174 - accuracy: 0.5118 - val_loss: 1.2562 - val_accuracy: 0.4935\n",
      "Epoch 24/50\n",
      "693/693 [==============================] - 18s 26ms/step - loss: 1.2090 - accuracy: 0.5220 - val_loss: 1.2397 - val_accuracy: 0.5051\n",
      "Epoch 25/50\n",
      "693/693 [==============================] - 18s 26ms/step - loss: 1.2091 - accuracy: 0.5196 - val_loss: 1.2404 - val_accuracy: 0.5076\n",
      "Epoch 26/50\n",
      "693/693 [==============================] - 18s 26ms/step - loss: 1.1900 - accuracy: 0.5290 - val_loss: 1.2414 - val_accuracy: 0.5019\n",
      "Epoch 27/50\n",
      "693/693 [==============================] - 18s 25ms/step - loss: 1.1827 - accuracy: 0.5316 - val_loss: 1.2373 - val_accuracy: 0.5140\n",
      "Epoch 28/50\n",
      "693/693 [==============================] - 18s 26ms/step - loss: 1.1667 - accuracy: 0.5403 - val_loss: 1.2457 - val_accuracy: 0.5019\n",
      "Epoch 29/50\n",
      "693/693 [==============================] - 18s 26ms/step - loss: 1.1721 - accuracy: 0.5364 - val_loss: 1.2424 - val_accuracy: 0.5100\n",
      "Epoch 30/50\n",
      "693/693 [==============================] - 18s 26ms/step - loss: 1.1674 - accuracy: 0.5387 - val_loss: 1.2367 - val_accuracy: 0.5134\n",
      "Epoch 31/50\n",
      "693/693 [==============================] - 18s 26ms/step - loss: 1.1572 - accuracy: 0.5407 - val_loss: 1.2323 - val_accuracy: 0.5082\n",
      "Epoch 32/50\n",
      "693/693 [==============================] - 18s 26ms/step - loss: 1.1497 - accuracy: 0.5527 - val_loss: 1.2369 - val_accuracy: 0.5071\n",
      "Epoch 33/50\n",
      "693/693 [==============================] - 18s 26ms/step - loss: 1.1463 - accuracy: 0.5488 - val_loss: 1.2478 - val_accuracy: 0.5074\n",
      "Epoch 34/50\n",
      "693/693 [==============================] - 18s 26ms/step - loss: 1.1427 - accuracy: 0.5484 - val_loss: 1.2306 - val_accuracy: 0.5108\n",
      "Epoch 35/50\n",
      "693/693 [==============================] - 18s 26ms/step - loss: 1.1407 - accuracy: 0.5551 - val_loss: 1.2324 - val_accuracy: 0.5128\n",
      "Epoch 36/50\n",
      "693/693 [==============================] - 18s 26ms/step - loss: 1.1313 - accuracy: 0.5598 - val_loss: 1.2332 - val_accuracy: 0.5126\n",
      "Epoch 37/50\n",
      "693/693 [==============================] - 18s 26ms/step - loss: 1.1261 - accuracy: 0.5616 - val_loss: 1.2904 - val_accuracy: 0.4831\n",
      "Epoch 38/50\n",
      "693/693 [==============================] - 18s 26ms/step - loss: 1.1215 - accuracy: 0.5597 - val_loss: 1.2356 - val_accuracy: 0.5152\n",
      "Epoch 39/50\n",
      "693/693 [==============================] - 18s 26ms/step - loss: 1.1113 - accuracy: 0.5650 - val_loss: 1.2372 - val_accuracy: 0.5102\n",
      "Epoch 40/50\n",
      "693/693 [==============================] - 18s 26ms/step - loss: 1.1064 - accuracy: 0.5631 - val_loss: 1.2340 - val_accuracy: 0.5082\n",
      "Epoch 41/50\n",
      "693/693 [==============================] - 18s 26ms/step - loss: 1.1089 - accuracy: 0.5690 - val_loss: 1.2316 - val_accuracy: 0.5074\n",
      "Epoch 42/50\n",
      "693/693 [==============================] - 18s 26ms/step - loss: 1.0930 - accuracy: 0.5709 - val_loss: 1.2366 - val_accuracy: 0.5120\n",
      "Epoch 43/50\n",
      "693/693 [==============================] - 18s 26ms/step - loss: 1.0908 - accuracy: 0.5794 - val_loss: 1.2429 - val_accuracy: 0.5105\n",
      "Epoch 44/50\n",
      "693/693 [==============================] - 18s 26ms/step - loss: 1.0950 - accuracy: 0.5708 - val_loss: 1.2406 - val_accuracy: 0.5160\n",
      "Epoch 45/50\n",
      "693/693 [==============================] - 18s 26ms/step - loss: 1.0931 - accuracy: 0.5718 - val_loss: 1.2391 - val_accuracy: 0.5085\n",
      "Epoch 46/50\n",
      "693/693 [==============================] - 18s 26ms/step - loss: 1.1035 - accuracy: 0.5686 - val_loss: 1.2250 - val_accuracy: 0.5074\n",
      "Epoch 47/50\n",
      "693/693 [==============================] - 18s 26ms/step - loss: 1.0832 - accuracy: 0.5797 - val_loss: 1.2286 - val_accuracy: 0.5212\n",
      "Epoch 48/50\n",
      "693/693 [==============================] - 18s 26ms/step - loss: 1.0886 - accuracy: 0.5803 - val_loss: 1.2293 - val_accuracy: 0.5082\n",
      "Epoch 49/50\n",
      "693/693 [==============================] - 18s 26ms/step - loss: 1.0717 - accuracy: 0.5762 - val_loss: 1.2534 - val_accuracy: 0.5059\n",
      "Epoch 50/50\n",
      "693/693 [==============================] - 18s 26ms/step - loss: 1.0902 - accuracy: 0.5788 - val_loss: 1.2241 - val_accuracy: 0.5227\n"
     ]
    }
   ],
   "source": [
    "history = model.fit(x_train_gray_norm,\n",
    "                 y_train, \n",
    "                 batch_size = 20,\n",
    "                 epochs = 50,\n",
    "                 validation_split=0.2)"
   ]
  },
  {
   "cell_type": "code",
   "execution_count": 92,
   "metadata": {},
   "outputs": [
    {
     "name": "stdout",
     "output_type": "stream",
     "text": [
      "136/136 [==============================] - 1s 8ms/step - loss: 1.2297 - accuracy: 0.5083\n",
      "Test Accuracy: 0.5083102583885193\n"
     ]
    }
   ],
   "source": [
    "score = model.evaluate(x_test_gray_norm, y_test)\n",
    "print('Test Accuracy: {}'.format(score[1]))"
   ]
  },
  {
   "cell_type": "code",
   "execution_count": 93,
   "metadata": {},
   "outputs": [],
   "source": [
    "accuracy = history.history['accuracy']\n",
    "val_accuracy = history.history['val_accuracy']\n",
    "loss = history.history['loss']\n",
    "val_loss = history.history['val_loss']"
   ]
  },
  {
   "cell_type": "code",
   "execution_count": 94,
   "metadata": {},
   "outputs": [
    {
     "data": {
      "text/plain": [
       "<matplotlib.legend.Legend at 0x1b26ba114f0>"
      ]
     },
     "execution_count": 94,
     "metadata": {},
     "output_type": "execute_result"
    },
    {
     "data": {
      "image/png": "[encoded data removed]",
      "text/plain": [
       "<Figure size 432x288 with 1 Axes>"
      ]
     },
     "metadata": {
      "needs_background": "light"
     },
     "output_type": "display_data"
    }
   ],
   "source": [
    "epochs = range(len(accuracy))\n",
    "\n",
    "plt.plot(epochs, accuracy,  label='Training Accuracy')\n",
    "plt.plot(epochs, val_accuracy,  label='Validation Accuracy')\n",
    "plt.title('Training and Validation Accuracy')\n",
    "plt.legend()"
   ]
  },
  {
   "cell_type": "code",
   "execution_count": null,
   "metadata": {},
   "outputs": [],
   "source": []
  }
 ],
 "metadata": {
  "kernelspec": {
   "display_name": "Python 3",
   "language": "python",
   "name": "python3"
  },
  "language_info": {
   "codemirror_mode": {
    "name": "ipython",
    "version": 3
   },
   "file_extension": ".py",
   "mimetype": "text/x-python",
   "name": "python",
   "nbconvert_exporter": "python",
   "pygments_lexer": "ipython3",
   "version": "3.8.5"
  }
 },
 "nbformat": 4,
 "nbformat_minor": 4
}
